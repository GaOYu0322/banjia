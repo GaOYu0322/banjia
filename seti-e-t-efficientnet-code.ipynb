{
 "cells": [
  {
   "cell_type": "code",
   "execution_count": 1,
   "metadata": {
    "execution": {
     "iopub.execute_input": "2021-06-21T15:47:12.763483Z",
     "iopub.status.busy": "2021-06-21T15:47:12.763198Z",
     "iopub.status.idle": "2021-06-21T15:47:21.942858Z",
     "shell.execute_reply": "2021-06-21T15:47:21.941866Z",
     "shell.execute_reply.started": "2021-06-21T15:47:12.763417Z"
    }
   },
   "outputs": [
    {
     "name": "stdout",
     "output_type": "stream",
     "text": [
      "Collecting efficientnet_pytorch\n",
      "  Downloading efficientnet_pytorch-0.7.1.tar.gz (21 kB)\n",
      "Requirement already satisfied: torch in /opt/conda/lib/python3.7/site-packages (from efficientnet_pytorch) (1.7.0)\n",
      "Requirement already satisfied: future in /opt/conda/lib/python3.7/site-packages (from torch->efficientnet_pytorch) (0.18.2)\n",
      "Requirement already satisfied: typing_extensions in /opt/conda/lib/python3.7/site-packages (from torch->efficientnet_pytorch) (3.7.4.3)\n",
      "Requirement already satisfied: dataclasses in /opt/conda/lib/python3.7/site-packages (from torch->efficientnet_pytorch) (0.6)\n",
      "Requirement already satisfied: numpy in /opt/conda/lib/python3.7/site-packages (from torch->efficientnet_pytorch) (1.19.5)\n",
      "Building wheels for collected packages: efficientnet-pytorch\n",
      "  Building wheel for efficientnet-pytorch (setup.py) ... \u001b[?25ldone\n",
      "\u001b[?25h  Created wheel for efficientnet-pytorch: filename=efficientnet_pytorch-0.7.1-py3-none-any.whl size=16446 sha256=bd36f42c5dfeac5ffb169c89633565cdefe25004029d07d49a3db15fce9732cf\n",
      "  Stored in directory: /root/.cache/pip/wheels/0e/cc/b2/49e74588263573ff778da58cc99b9c6349b496636a7e165be6\n",
      "Successfully built efficientnet-pytorch\n",
      "Installing collected packages: efficientnet-pytorch\n",
      "Successfully installed efficientnet-pytorch-0.7.1\n"
     ]
    }
   ],
   "source": [
    "!pip install efficientnet_pytorch"
   ]
  },
  {
   "cell_type": "code",
   "execution_count": 2,
   "metadata": {
    "ExecuteTime": {
     "end_time": "2021-05-29T22:07:08.512091Z",
     "start_time": "2021-05-29T22:07:08.505077Z"
    },
    "_cell_guid": "b1076dfc-b9ad-4769-8c92-a6c4dae69d19",
    "_uuid": "8f2839f25d086af736a60e9eeb907d3b93b6e0e5",
    "execution": {
     "iopub.execute_input": "2021-06-21T15:47:21.946656Z",
     "iopub.status.busy": "2021-06-21T15:47:21.946388Z",
     "iopub.status.idle": "2021-06-21T15:47:23.917481Z",
     "shell.execute_reply": "2021-06-21T15:47:23.916674Z",
     "shell.execute_reply.started": "2021-06-21T15:47:21.946627Z"
    },
    "papermill": {
     "duration": 1.937959,
     "end_time": "2021-05-13T05:46:26.174695",
     "exception": false,
     "start_time": "2021-05-13T05:46:24.236736",
     "status": "completed"
    },
    "tags": []
   },
   "outputs": [],
   "source": [
    "import os\n",
    "import sys\n",
    "import pandas as pd\n",
    "import numpy as np\n",
    "from sklearn import metrics\n",
    "from tqdm import tqdm\n",
    "import torch\n",
    "import torch.nn as nn\n",
    "from efficientnet_pytorch import model as enet\n",
    "import random\n",
    "from sklearn.model_selection import StratifiedKFold\n",
    "import codecs"
   ]
  },
  {
   "cell_type": "code",
   "execution_count": 3,
   "metadata": {
    "ExecuteTime": {
     "end_time": "2021-05-29T22:07:09.256042Z",
     "start_time": "2021-05-29T22:07:09.246869Z"
    },
    "execution": {
     "iopub.execute_input": "2021-06-21T15:47:23.919545Z",
     "iopub.status.busy": "2021-06-21T15:47:23.919185Z",
     "iopub.status.idle": "2021-06-21T15:47:23.929901Z",
     "shell.execute_reply": "2021-06-21T15:47:23.928935Z",
     "shell.execute_reply.started": "2021-06-21T15:47:23.919510Z"
    },
    "papermill": {
     "duration": 0.025679,
     "end_time": "2021-05-13T05:46:26.213968",
     "exception": false,
     "start_time": "2021-05-13T05:46:26.188289",
     "status": "completed"
    },
    "tags": []
   },
   "outputs": [],
   "source": [
    "def set_seed(seed = 0):\n",
    "    '''Sets the seed of the entire notebook so results are the same every time we run.\n",
    "    This is for REPRODUCIBILITY.'''\n",
    "    np.random.seed(seed)\n",
    "    random_state = np.random.RandomState(seed)\n",
    "    random.seed(seed)\n",
    "    torch.manual_seed(seed)\n",
    "    torch.cuda.manual_seed(seed)\n",
    "    torch.backends.cudnn.deterministic = False\n",
    "    torch.backends.cudnn.benchmark = True\n",
    "    os.environ['PYTHONHASHSEED'] = str(seed)\n",
    "    return random_state\n",
    "\n",
    "random_state = set_seed(2021)"
   ]
  },
  {
   "cell_type": "code",
   "execution_count": 4,
   "metadata": {
    "ExecuteTime": {
     "end_time": "2021-05-29T22:07:09.782946Z",
     "start_time": "2021-05-29T22:07:09.776935Z"
    },
    "execution": {
     "iopub.execute_input": "2021-06-21T15:47:23.932250Z",
     "iopub.status.busy": "2021-06-21T15:47:23.931864Z",
     "iopub.status.idle": "2021-06-21T15:47:23.985909Z",
     "shell.execute_reply": "2021-06-21T15:47:23.985015Z",
     "shell.execute_reply.started": "2021-06-21T15:47:23.932203Z"
    },
    "papermill": {
     "duration": 0.069811,
     "end_time": "2021-05-13T05:46:26.29336",
     "exception": false,
     "start_time": "2021-05-13T05:46:26.223549",
     "status": "completed"
    },
    "tags": []
   },
   "outputs": [
    {
     "name": "stdout",
     "output_type": "stream",
     "text": [
      "GPU is available\n"
     ]
    }
   ],
   "source": [
    "if torch.cuda.is_available():\n",
    "    device = torch.device(\"cuda\")\n",
    "    print(\"GPU is available\")\n",
    "else:\n",
    "    device = torch.device(\"cpu\")\n",
    "    print(\"GPU not available, CPU used\")"
   ]
  },
  {
   "cell_type": "code",
   "execution_count": 5,
   "metadata": {
    "ExecuteTime": {
     "end_time": "2021-05-29T22:07:10.28573Z",
     "start_time": "2021-05-29T22:07:10.273439Z"
    },
    "execution": {
     "iopub.execute_input": "2021-06-21T15:47:23.988293Z",
     "iopub.status.busy": "2021-06-21T15:47:23.987447Z",
     "iopub.status.idle": "2021-06-21T15:47:25.116187Z",
     "shell.execute_reply": "2021-06-21T15:47:25.115345Z",
     "shell.execute_reply.started": "2021-06-21T15:47:23.988247Z"
    },
    "papermill": {
     "duration": 0.017329,
     "end_time": "2021-05-13T05:46:26.32316",
     "exception": false,
     "start_time": "2021-05-13T05:46:26.305831",
     "status": "completed"
    },
    "tags": []
   },
   "outputs": [],
   "source": [
    "import albumentations as A\n",
    "ttransform = A.Compose([\n",
    "    \n",
    "    A.VerticalFlip(p=0.5),\n",
    "    A.HorizontalFlip(p=0.5),\n",
    "])\n",
    "\n",
    "class ClassificationDataset:\n",
    "    \n",
    "    def __init__(self, image_paths, targets): \n",
    "        self.image_paths = image_paths\n",
    "        self.targets = targets\n",
    "\n",
    "    def __len__(self):\n",
    "        return len(self.image_paths)\n",
    "    \n",
    "    def __getitem__(self, item):      \n",
    "        image = np.load(self.image_paths[item])\n",
    "        image = np.vstack(image).transpose((1, 0)).astype(np.float32)[np.newaxis, ]\n",
    "        # image = ttransform(image = image)[\"image\"][np.newaxis, ]\n",
    "        # dx = np.random.randint(0, 16)\n",
    "        # dy = np.random.randint(0, 138)\n",
    "        # image = image[:, dx:dx+240, dy:dy+1500]\n",
    "\n",
    "        targets = self.targets[item]\n",
    "                \n",
    "        return {\n",
    "            \"image\": torch.tensor(image, dtype=torch.float),\n",
    "            \"targets\": torch.tensor(targets, dtype=torch.long),\n",
    "        }"
   ]
  },
  {
   "cell_type": "code",
   "execution_count": 6,
   "metadata": {
    "ExecuteTime": {
     "end_time": "2021-05-29T22:07:11.902166Z",
     "start_time": "2021-05-29T22:07:11.821684Z"
    },
    "execution": {
     "iopub.execute_input": "2021-06-21T15:47:25.117939Z",
     "iopub.status.busy": "2021-06-21T15:47:25.117571Z",
     "iopub.status.idle": "2021-06-21T15:47:25.189380Z",
     "shell.execute_reply": "2021-06-21T15:47:25.188392Z",
     "shell.execute_reply.started": "2021-06-21T15:47:25.117902Z"
    },
    "papermill": {
     "duration": 0.084068,
     "end_time": "2021-05-13T05:46:26.416545",
     "exception": false,
     "start_time": "2021-05-13T05:46:26.332477",
     "status": "completed"
    },
    "tags": []
   },
   "outputs": [
    {
     "name": "stdout",
     "output_type": "stream",
     "text": [
      "(50165, 2)\n"
     ]
    }
   ],
   "source": [
    "df = pd.read_csv('../input/seti-breakthrough-listen/train_labels.csv')\n",
    "print (df.shape)\n",
    "df['img_path'] = df['id'].apply(lambda x: f'../input/seti-breakthrough-listen/train/{x[0]}/{x}.npy')"
   ]
  },
  {
   "cell_type": "code",
   "execution_count": 7,
   "metadata": {
    "ExecuteTime": {
     "end_time": "2021-05-29T22:07:12.365213Z",
     "start_time": "2021-05-29T22:07:12.35137Z"
    },
    "execution": {
     "iopub.execute_input": "2021-06-21T15:47:25.191107Z",
     "iopub.status.busy": "2021-06-21T15:47:25.190713Z",
     "iopub.status.idle": "2021-06-21T15:47:25.258189Z",
     "shell.execute_reply": "2021-06-21T15:47:25.257251Z",
     "shell.execute_reply.started": "2021-06-21T15:47:25.191071Z"
    }
   },
   "outputs": [
    {
     "data": {
      "text/plain": [
       "(1, 256, 1638)"
      ]
     },
     "execution_count": 7,
     "metadata": {},
     "output_type": "execute_result"
    }
   ],
   "source": [
    "image = np.load(df['img_path'].iloc[0])\n",
    "image = np.vstack(image).transpose((1, 0)).astype(np.float32)[np.newaxis, ]\n",
    "image.shape"
   ]
  },
  {
   "cell_type": "code",
   "execution_count": 8,
   "metadata": {
    "ExecuteTime": {
     "end_time": "2021-05-29T22:07:13.151155Z",
     "start_time": "2021-05-29T22:07:13.140289Z"
    },
    "execution": {
     "iopub.execute_input": "2021-06-21T15:47:25.261337Z",
     "iopub.status.busy": "2021-06-21T15:47:25.260870Z",
     "iopub.status.idle": "2021-06-21T15:47:25.267999Z",
     "shell.execute_reply": "2021-06-21T15:47:25.266613Z",
     "shell.execute_reply.started": "2021-06-21T15:47:25.261301Z"
    },
    "papermill": {
     "duration": 0.020094,
     "end_time": "2021-05-13T05:46:26.447666",
     "exception": false,
     "start_time": "2021-05-13T05:46:26.427572",
     "status": "completed"
    },
    "tags": []
   },
   "outputs": [],
   "source": [
    "class enetv2(nn.Module):\n",
    "    def __init__(self, backbone, out_dim):\n",
    "        super(enetv2, self).__init__()\n",
    "        self.enet = enet.EfficientNet.from_pretrained(backbone)\n",
    "        self.myfc = nn.Linear(self.enet._fc.in_features, out_dim)\n",
    "        self.enet._fc = nn.Identity()\n",
    "        self.conv1 = nn.Conv2d(1, 3, kernel_size=3, stride=1, padding=3, bias=False)\n",
    "\n",
    "    def extract(self, x):\n",
    "        return self.enet(x)\n",
    "\n",
    "    def forward(self, x):\n",
    "        x = self.conv1(x)\n",
    "        x = self.extract(x)\n",
    "        x = self.myfc(x)\n",
    "        return x"
   ]
  },
  {
   "cell_type": "code",
   "execution_count": 9,
   "metadata": {
    "ExecuteTime": {
     "end_time": "2021-05-29T22:07:14.263829Z",
     "start_time": "2021-05-29T22:07:14.252227Z"
    },
    "execution": {
     "iopub.execute_input": "2021-06-21T15:47:25.270413Z",
     "iopub.status.busy": "2021-06-21T15:47:25.269919Z",
     "iopub.status.idle": "2021-06-21T15:47:25.279475Z",
     "shell.execute_reply": "2021-06-21T15:47:25.278449Z",
     "shell.execute_reply.started": "2021-06-21T15:47:25.270344Z"
    }
   },
   "outputs": [],
   "source": [
    "def mixup_data(x, y, alpha=1.0, use_cuda=True):\n",
    "    '''Returns mixed inputs, pairs of targets, and lambda'''\n",
    "    if alpha > 0:\n",
    "        lam = np.random.beta(alpha, alpha)\n",
    "    else:\n",
    "        lam = 1\n",
    "\n",
    "    batch_size = x.size()[0]\n",
    "    if use_cuda:\n",
    "        index = torch.randperm(batch_size).cuda()\n",
    "    else:\n",
    "        index = torch.randperm(batch_size)\n",
    "\n",
    "    mixed_x = lam * x + (1 - lam) * x[index, :]\n",
    "    y_a, y_b = y, y[index]\n",
    "    return mixed_x, y_a, y_b, lam\n",
    "\n",
    "\n",
    "def mixup_criterion(criterion, pred, y_a, y_b, lam):\n",
    "    return lam * criterion(pred, y_a.view(-1, 1)) + (1 - lam) * criterion(pred, y_b.view(-1, 1))"
   ]
  },
  {
   "cell_type": "code",
   "execution_count": 10,
   "metadata": {
    "ExecuteTime": {
     "end_time": "2021-05-29T22:07:17.616232Z",
     "start_time": "2021-05-29T22:07:17.600803Z"
    },
    "execution": {
     "iopub.execute_input": "2021-06-21T15:47:25.281446Z",
     "iopub.status.busy": "2021-06-21T15:47:25.281041Z",
     "iopub.status.idle": "2021-06-21T15:47:25.296229Z",
     "shell.execute_reply": "2021-06-21T15:47:25.295432Z",
     "shell.execute_reply.started": "2021-06-21T15:47:25.281407Z"
    },
    "papermill": {
     "duration": 0.112869,
     "end_time": "2021-05-13T05:46:26.570506",
     "exception": false,
     "start_time": "2021-05-13T05:46:26.457637",
     "status": "completed"
    },
    "tags": []
   },
   "outputs": [],
   "source": [
    "criterion = nn.BCEWithLogitsLoss()\n",
    "\n",
    "def train(data_loader, model, optimizer, device, scheduler):\n",
    "    model.train()\n",
    "    \n",
    "    for data in tqdm(data_loader, position=0, leave=True, desc='Training'):\n",
    "        inputs = data[\"image\"]\n",
    "        targets = data['targets']\n",
    "        \n",
    "        inputs = inputs.to(device, dtype=torch.float)\n",
    "        targets = targets.to(device, dtype=torch.float)\n",
    "        \n",
    "        optimizer.zero_grad()\n",
    "        \n",
    "        if np.random.randint(1, 10) >= 5:\n",
    "            mixed_x, y_a, y_b, lam = mixup_data(inputs, targets)\n",
    "            outputs = model(mixed_x)\n",
    "            loss = mixup_criterion(criterion, outputs, y_a, y_b, lam)\n",
    "        else:\n",
    "            outputs = model(inputs)\n",
    "            loss = criterion(outputs, targets.view(-1, 1))\n",
    "        \n",
    "        # loss = criterion(outputs, targets.view(-1, 1))\n",
    "        loss.backward()\n",
    "        optimizer.step()\n",
    "        scheduler.step()\n",
    "        \n",
    "def evaluate(data_loader, model, device):\n",
    "    model.eval()\n",
    "    \n",
    "    final_targets = []\n",
    "    final_outputs = []\n",
    "    \n",
    "    with torch.no_grad():\n",
    "        \n",
    "        for data in tqdm(data_loader, position=0, leave=True, desc='Evaluating'):\n",
    "            inputs = data[\"image\"]\n",
    "            targets = data[\"targets\"]\n",
    "            inputs = inputs.to(device, dtype=torch.float)\n",
    "            targets = targets.to(device, dtype=torch.float)\n",
    "            \n",
    "            output = model(inputs)\n",
    "            \n",
    "            targets = targets.detach().cpu().numpy().tolist()\n",
    "            output = output.detach().cpu().numpy().tolist()\n",
    "            \n",
    "            final_targets.extend(targets)\n",
    "            final_outputs.extend(output)\n",
    "    return final_outputs, final_targets"
   ]
  },
  {
   "cell_type": "code",
   "execution_count": 11,
   "metadata": {
    "ExecuteTime": {
     "end_time": "2021-05-30T11:50:05.287996Z",
     "start_time": "2021-05-29T22:07:36.901485Z"
    },
    "execution": {
     "iopub.execute_input": "2021-06-21T15:47:25.299148Z",
     "iopub.status.busy": "2021-06-21T15:47:25.298786Z",
     "iopub.status.idle": "2021-06-21T22:21:28.692442Z",
     "shell.execute_reply": "2021-06-21T22:21:28.689799Z",
     "shell.execute_reply.started": "2021-06-21T15:47:25.299084Z"
    },
    "papermill": {
     "duration": 9110.861851,
     "end_time": "2021-05-13T08:18:17.443346",
     "exception": false,
     "start_time": "2021-05-13T05:46:26.581495",
     "status": "completed"
    },
    "tags": []
   },
   "outputs": [
    {
     "name": "stderr",
     "output_type": "stream",
     "text": [
      "Downloading: \"https://github.com/lukemelas/EfficientNet-PyTorch/releases/download/1.0/efficientnet-b0-355c32eb.pth\" to /root/.cache/torch/hub/checkpoints/efficientnet-b0-355c32eb.pth\n"
     ]
    },
    {
     "data": {
      "application/vnd.jupyter.widget-view+json": {
       "model_id": "52a1822d69b341ecb5b21a7ab08a225a",
       "version_major": 2,
       "version_minor": 0
      },
      "text/plain": [
       "  0%|          | 0.00/20.4M [00:00<?, ?B/s]"
      ]
     },
     "metadata": {},
     "output_type": "display_data"
    },
    {
     "name": "stdout",
     "output_type": "stream",
     "text": [
      "Loaded pretrained weights for efficientnet-b0\n"
     ]
    },
    {
     "name": "stderr",
     "output_type": "stream",
     "text": [
      "Training: 100%|██████████| 2509/2509 [24:28<00:00,  1.71it/s]\n",
      "Evaluating: 100%|██████████| 628/628 [01:53<00:00,  5.55it/s]\n",
      "Training:   0%|          | 0/2509 [00:00<?, ?it/s]"
     ]
    },
    {
     "name": "stdout",
     "output_type": "stream",
     "text": [
      "Epoch=0, Valid ROC AUC=0.9510673288704519\n"
     ]
    },
    {
     "name": "stderr",
     "output_type": "stream",
     "text": [
      "Training: 100%|██████████| 2509/2509 [24:21<00:00,  1.72it/s]\n",
      "Evaluating: 100%|██████████| 628/628 [01:51<00:00,  5.65it/s]\n",
      "Training:   0%|          | 0/2509 [00:00<?, ?it/s]"
     ]
    },
    {
     "name": "stdout",
     "output_type": "stream",
     "text": [
      "Epoch=1, Valid ROC AUC=0.9517645417770958\n"
     ]
    },
    {
     "name": "stderr",
     "output_type": "stream",
     "text": [
      "Training: 100%|██████████| 2509/2509 [24:22<00:00,  1.72it/s]\n",
      "Evaluating: 100%|██████████| 628/628 [01:51<00:00,  5.66it/s]\n"
     ]
    },
    {
     "name": "stdout",
     "output_type": "stream",
     "text": [
      "Epoch=2, Valid ROC AUC=0.972507094621919\n"
     ]
    },
    {
     "name": "stderr",
     "output_type": "stream",
     "text": [
      "Training:   0%|          | 0/2509 [00:00<?, ?it/s]"
     ]
    },
    {
     "name": "stdout",
     "output_type": "stream",
     "text": [
      "Loaded pretrained weights for efficientnet-b0\n"
     ]
    },
    {
     "name": "stderr",
     "output_type": "stream",
     "text": [
      "Training: 100%|██████████| 2509/2509 [24:22<00:00,  1.72it/s]\n",
      "Evaluating: 100%|██████████| 628/628 [01:51<00:00,  5.63it/s]\n",
      "Training:   0%|          | 0/2509 [00:00<?, ?it/s]"
     ]
    },
    {
     "name": "stdout",
     "output_type": "stream",
     "text": [
      "Epoch=0, Valid ROC AUC=0.9621262530058204\n"
     ]
    },
    {
     "name": "stderr",
     "output_type": "stream",
     "text": [
      "Training: 100%|██████████| 2509/2509 [24:23<00:00,  1.71it/s]\n",
      "Evaluating: 100%|██████████| 628/628 [01:50<00:00,  5.66it/s]\n",
      "Training:   0%|          | 0/2509 [00:00<?, ?it/s]"
     ]
    },
    {
     "name": "stdout",
     "output_type": "stream",
     "text": [
      "Epoch=1, Valid ROC AUC=0.9769568016735865\n"
     ]
    },
    {
     "name": "stderr",
     "output_type": "stream",
     "text": [
      "Training: 100%|██████████| 2509/2509 [24:23<00:00,  1.71it/s]\n",
      "Evaluating: 100%|██████████| 628/628 [01:51<00:00,  5.65it/s]\n"
     ]
    },
    {
     "name": "stdout",
     "output_type": "stream",
     "text": [
      "Epoch=2, Valid ROC AUC=0.979252432234808\n"
     ]
    },
    {
     "name": "stderr",
     "output_type": "stream",
     "text": [
      "Training:   0%|          | 0/2509 [00:00<?, ?it/s]"
     ]
    },
    {
     "name": "stdout",
     "output_type": "stream",
     "text": [
      "Loaded pretrained weights for efficientnet-b0\n"
     ]
    },
    {
     "name": "stderr",
     "output_type": "stream",
     "text": [
      "Training: 100%|██████████| 2509/2509 [24:24<00:00,  1.71it/s]\n",
      "Evaluating: 100%|██████████| 628/628 [01:51<00:00,  5.63it/s]\n",
      "Training:   0%|          | 0/2509 [00:00<?, ?it/s]"
     ]
    },
    {
     "name": "stdout",
     "output_type": "stream",
     "text": [
      "Epoch=0, Valid ROC AUC=0.9623585914761292\n"
     ]
    },
    {
     "name": "stderr",
     "output_type": "stream",
     "text": [
      "Training: 100%|██████████| 2509/2509 [24:23<00:00,  1.71it/s]\n",
      "Evaluating: 100%|██████████| 628/628 [01:50<00:00,  5.67it/s]\n"
     ]
    },
    {
     "name": "stdout",
     "output_type": "stream",
     "text": [
      "Epoch=1, Valid ROC AUC=0.9735291066000287\n"
     ]
    },
    {
     "name": "stderr",
     "output_type": "stream",
     "text": [
      "Training: 100%|██████████| 2509/2509 [24:24<00:00,  1.71it/s]\n",
      "Evaluating: 100%|██████████| 628/628 [01:50<00:00,  5.66it/s]\n"
     ]
    },
    {
     "name": "stdout",
     "output_type": "stream",
     "text": [
      "Epoch=2, Valid ROC AUC=0.9783002426672269\n"
     ]
    },
    {
     "name": "stderr",
     "output_type": "stream",
     "text": [
      "Training:   0%|          | 0/2509 [00:00<?, ?it/s]"
     ]
    },
    {
     "name": "stdout",
     "output_type": "stream",
     "text": [
      "Loaded pretrained weights for efficientnet-b0\n"
     ]
    },
    {
     "name": "stderr",
     "output_type": "stream",
     "text": [
      "Training: 100%|██████████| 2509/2509 [24:23<00:00,  1.71it/s]\n",
      "Evaluating: 100%|██████████| 628/628 [01:51<00:00,  5.63it/s]\n",
      "Training:   0%|          | 0/2509 [00:00<?, ?it/s]"
     ]
    },
    {
     "name": "stdout",
     "output_type": "stream",
     "text": [
      "Epoch=0, Valid ROC AUC=0.9666039212269532\n"
     ]
    },
    {
     "name": "stderr",
     "output_type": "stream",
     "text": [
      "Training: 100%|██████████| 2509/2509 [24:24<00:00,  1.71it/s]\n",
      "Evaluating: 100%|██████████| 628/628 [01:51<00:00,  5.64it/s]\n",
      "Training:   0%|          | 0/2509 [00:00<?, ?it/s]"
     ]
    },
    {
     "name": "stdout",
     "output_type": "stream",
     "text": [
      "Epoch=1, Valid ROC AUC=0.9765880346156215\n"
     ]
    },
    {
     "name": "stderr",
     "output_type": "stream",
     "text": [
      "Training: 100%|██████████| 2509/2509 [24:24<00:00,  1.71it/s]\n",
      "Evaluating: 100%|██████████| 628/628 [01:52<00:00,  5.60it/s]\n"
     ]
    },
    {
     "name": "stdout",
     "output_type": "stream",
     "text": [
      "Epoch=2, Valid ROC AUC=0.9787335351773794\n"
     ]
    },
    {
     "name": "stderr",
     "output_type": "stream",
     "text": [
      "Training:   0%|          | 0/2509 [00:00<?, ?it/s]"
     ]
    },
    {
     "name": "stdout",
     "output_type": "stream",
     "text": [
      "Loaded pretrained weights for efficientnet-b0\n"
     ]
    },
    {
     "name": "stderr",
     "output_type": "stream",
     "text": [
      "Training: 100%|██████████| 2509/2509 [24:24<00:00,  1.71it/s]\n",
      "Evaluating: 100%|██████████| 628/628 [01:51<00:00,  5.61it/s]\n",
      "Training:   0%|          | 0/2509 [00:00<?, ?it/s]"
     ]
    },
    {
     "name": "stdout",
     "output_type": "stream",
     "text": [
      "Epoch=0, Valid ROC AUC=0.9704287815838035\n"
     ]
    },
    {
     "name": "stderr",
     "output_type": "stream",
     "text": [
      "Training: 100%|██████████| 2509/2509 [24:25<00:00,  1.71it/s]\n",
      "Evaluating: 100%|██████████| 628/628 [01:52<00:00,  5.60it/s]\n",
      "Training:   0%|          | 0/2509 [00:00<?, ?it/s]"
     ]
    },
    {
     "name": "stdout",
     "output_type": "stream",
     "text": [
      "Epoch=1, Valid ROC AUC=0.9759806053588214\n"
     ]
    },
    {
     "name": "stderr",
     "output_type": "stream",
     "text": [
      "Training: 100%|██████████| 2509/2509 [24:24<00:00,  1.71it/s]\n",
      "Evaluating: 100%|██████████| 628/628 [01:51<00:00,  5.64it/s]\n"
     ]
    },
    {
     "name": "stdout",
     "output_type": "stream",
     "text": [
      "Epoch=2, Valid ROC AUC=0.9775079029040669\n"
     ]
    }
   ],
   "source": [
    "baseline_name = 'efficientnet-b0'\n",
    "models = []\n",
    "device = \"cuda\"\n",
    "epochs = 3\n",
    "Batch_Size = 16\n",
    "X = df.img_path.values\n",
    "Y = df.target.values\n",
    "skf = StratifiedKFold(n_splits=5)\n",
    "fold = 0\n",
    "\n",
    "for train_index, test_index in skf.split(X, Y):\n",
    "    \n",
    "    model = enetv2(baseline_name, out_dim=1)\n",
    "    model.to(device)\n",
    "    model = nn.DataParallel(model)\n",
    "    \n",
    "    train_images, valid_images = X[train_index], X[test_index]\n",
    "    train_targets, valid_targets = Y[train_index], Y[test_index]\n",
    "\n",
    "    train_dataset = ClassificationDataset(image_paths=train_images, targets=train_targets)\n",
    "    valid_dataset = ClassificationDataset(image_paths=valid_images, targets=valid_targets)\n",
    "    train_loader = torch.utils.data.DataLoader(train_dataset, batch_size=Batch_Size,shuffle=True, num_workers=4)\n",
    "    valid_loader = torch.utils.data.DataLoader(valid_dataset, batch_size=Batch_Size,shuffle=False, num_workers=4)\n",
    "\n",
    "    optimizer = torch.optim.Adam(model.parameters())\n",
    "    scheduler = torch.optim.lr_scheduler.CyclicLR(optimizer, base_lr=0.001, max_lr=5e-4, gamma=0.9, cycle_momentum=False,\n",
    "                                                  step_size_up=1400,step_size_down=1400, mode=\"triangular2\")\n",
    "    \n",
    "    best_roc_auc = 0\n",
    "    for epoch in range(epochs):\n",
    "        train(train_loader, model, optimizer, device, scheduler)\n",
    "        predictions, valid_targets = evaluate(valid_loader, model, device=device)\n",
    "        roc_auc = metrics.roc_auc_score(valid_targets, predictions)\n",
    "        print(f\"Epoch={epoch}, Valid ROC AUC={roc_auc}\")\n",
    "        \n",
    "        with codecs.open('log.log', 'a') as up:\n",
    "            up.write(f\"Fold={fold}, Epoch={epoch}, Valid ROC AUC={roc_auc}/{best_roc_auc}\\n\")\n",
    "\n",
    "        if roc_auc > best_roc_auc:        \n",
    "            torch.save(model.state_dict(), baseline_name + '-' + str(fold) + '.pt')\n",
    "            best_roc_auc = roc_auc\n",
    "        \n",
    "    torch.save(model.state_dict(),baseline_name + '-' + str(fold) + '.pt')\n",
    "    models.append(model)\n",
    "    fold += 1"
   ]
  },
  {
   "cell_type": "code",
   "execution_count": 12,
   "metadata": {
    "execution": {
     "iopub.execute_input": "2021-06-21T22:21:28.699389Z",
     "iopub.status.busy": "2021-06-21T22:21:28.699091Z",
     "iopub.status.idle": "2021-06-21T22:21:28.799234Z",
     "shell.execute_reply": "2021-06-21T22:21:28.798354Z",
     "shell.execute_reply.started": "2021-06-21T22:21:28.699354Z"
    },
    "papermill": {
     "duration": 6.751293,
     "end_time": "2021-05-13T08:18:30.122005",
     "exception": false,
     "start_time": "2021-05-13T08:18:23.370712",
     "status": "completed"
    },
    "tags": []
   },
   "outputs": [],
   "source": [
    "submission = pd.read_csv('../input/seti-breakthrough-listen/sample_submission.csv')\n",
    "submission['img_path'] = submission['id'].apply(lambda x: f'../input/seti-breakthrough-listen/test/{x[0]}/{x}.npy')"
   ]
  },
  {
   "cell_type": "code",
   "execution_count": 13,
   "metadata": {
    "execution": {
     "iopub.execute_input": "2021-06-21T22:21:28.802511Z",
     "iopub.status.busy": "2021-06-21T22:21:28.802221Z",
     "iopub.status.idle": "2021-06-21T22:21:28.809130Z",
     "shell.execute_reply": "2021-06-21T22:21:28.808219Z",
     "shell.execute_reply.started": "2021-06-21T22:21:28.802485Z"
    },
    "papermill": {
     "duration": 6.274092,
     "end_time": "2021-05-13T08:18:42.365318",
     "exception": false,
     "start_time": "2021-05-13T08:18:36.091226",
     "status": "completed"
    },
    "tags": []
   },
   "outputs": [],
   "source": [
    "test_dataset = ClassificationDataset(image_paths=submission.img_path.values, targets=submission.target.values)\n",
    "test_loader = torch.utils.data.DataLoader(test_dataset, batch_size=16, shuffle=False, num_workers=4)"
   ]
  },
  {
   "cell_type": "code",
   "execution_count": 14,
   "metadata": {
    "execution": {
     "iopub.execute_input": "2021-06-21T22:21:28.810896Z",
     "iopub.status.busy": "2021-06-21T22:21:28.810534Z",
     "iopub.status.idle": "2021-06-21T22:54:22.086107Z",
     "shell.execute_reply": "2021-06-21T22:54:22.084443Z",
     "shell.execute_reply.started": "2021-06-21T22:21:28.810862Z"
    },
    "papermill": {
     "duration": 1568.916832,
     "end_time": "2021-05-13T08:44:57.22289",
     "exception": false,
     "start_time": "2021-05-13T08:18:48.306058",
     "status": "completed"
    },
    "tags": []
   },
   "outputs": [
    {
     "name": "stderr",
     "output_type": "stream",
     "text": [
      "Evaluating: 100%|██████████| 2241/2241 [06:37<00:00,  5.64it/s]\n",
      "Evaluating: 100%|██████████| 2241/2241 [06:34<00:00,  5.69it/s]\n",
      "Evaluating: 100%|██████████| 2241/2241 [06:33<00:00,  5.69it/s]\n",
      "Evaluating: 100%|██████████| 2241/2241 [06:34<00:00,  5.68it/s]\n",
      "Evaluating: 100%|██████████| 2241/2241 [06:33<00:00,  5.70it/s]\n"
     ]
    }
   ],
   "source": [
    "sig = torch.nn.Sigmoid()\n",
    "outs = []\n",
    "for model in models:\n",
    "    predictions, valid_targets = evaluate(test_loader, model, device=device)\n",
    "    predictions = np.array(predictions)[:, 0]\n",
    "    out = sig(torch.from_numpy(predictions))\n",
    "    out = out.detach().numpy()\n",
    "    outs.append(out)"
   ]
  },
  {
   "cell_type": "code",
   "execution_count": 15,
   "metadata": {
    "execution": {
     "iopub.execute_input": "2021-06-21T22:54:22.091429Z",
     "iopub.status.busy": "2021-06-21T22:54:22.091129Z",
     "iopub.status.idle": "2021-06-21T22:54:22.107530Z",
     "shell.execute_reply": "2021-06-21T22:54:22.106650Z",
     "shell.execute_reply.started": "2021-06-21T22:54:22.091401Z"
    },
    "papermill": {
     "duration": 9.044711,
     "end_time": "2021-05-13T08:45:15.901929",
     "exception": false,
     "start_time": "2021-05-13T08:45:06.857218",
     "status": "completed"
    },
    "tags": []
   },
   "outputs": [],
   "source": [
    "pred = np.mean(np.array(outs), axis=0)"
   ]
  },
  {
   "cell_type": "code",
   "execution_count": 16,
   "metadata": {
    "execution": {
     "iopub.execute_input": "2021-06-21T22:54:22.109297Z",
     "iopub.status.busy": "2021-06-21T22:54:22.108936Z",
     "iopub.status.idle": "2021-06-21T22:54:23.008990Z",
     "shell.execute_reply": "2021-06-21T22:54:23.008108Z",
     "shell.execute_reply.started": "2021-06-21T22:54:22.109261Z"
    },
    "papermill": {
     "duration": 9.852919,
     "end_time": "2021-05-13T08:45:34.853291",
     "exception": false,
     "start_time": "2021-05-13T08:45:25.000372",
     "status": "completed"
    },
    "tags": []
   },
   "outputs": [],
   "source": [
    "submission.target = pred\n",
    "submission.drop(['img_path'], axis=1, inplace=True)\n",
    "submission.to_csv('submission.csv', index=False)"
   ]
  },
  {
   "cell_type": "code",
   "execution_count": 17,
   "metadata": {
    "execution": {
     "iopub.execute_input": "2021-06-21T22:54:23.010622Z",
     "iopub.status.busy": "2021-06-21T22:54:23.010261Z",
     "iopub.status.idle": "2021-06-21T22:54:23.028545Z",
     "shell.execute_reply": "2021-06-21T22:54:23.027648Z",
     "shell.execute_reply.started": "2021-06-21T22:54:23.010586Z"
    },
    "papermill": {
     "duration": 9.036117,
     "end_time": "2021-05-13T08:45:53.491681",
     "exception": false,
     "start_time": "2021-05-13T08:45:44.455564",
     "status": "completed"
    },
    "tags": []
   },
   "outputs": [
    {
     "data": {
      "text/html": [
       "<div>\n",
       "<style scoped>\n",
       "    .dataframe tbody tr th:only-of-type {\n",
       "        vertical-align: middle;\n",
       "    }\n",
       "\n",
       "    .dataframe tbody tr th {\n",
       "        vertical-align: top;\n",
       "    }\n",
       "\n",
       "    .dataframe thead th {\n",
       "        text-align: right;\n",
       "    }\n",
       "</style>\n",
       "<table border=\"1\" class=\"dataframe\">\n",
       "  <thead>\n",
       "    <tr style=\"text-align: right;\">\n",
       "      <th></th>\n",
       "      <th>id</th>\n",
       "      <th>target</th>\n",
       "    </tr>\n",
       "  </thead>\n",
       "  <tbody>\n",
       "    <tr>\n",
       "      <th>0</th>\n",
       "      <td>00034db451c4</td>\n",
       "      <td>0.009954</td>\n",
       "    </tr>\n",
       "    <tr>\n",
       "      <th>1</th>\n",
       "      <td>0006316b5ca0</td>\n",
       "      <td>0.007508</td>\n",
       "    </tr>\n",
       "    <tr>\n",
       "      <th>2</th>\n",
       "      <td>0006a953d21b</td>\n",
       "      <td>0.006451</td>\n",
       "    </tr>\n",
       "    <tr>\n",
       "      <th>3</th>\n",
       "      <td>0008a33d6695</td>\n",
       "      <td>0.054974</td>\n",
       "    </tr>\n",
       "    <tr>\n",
       "      <th>4</th>\n",
       "      <td>00095b5119fc</td>\n",
       "      <td>0.025438</td>\n",
       "    </tr>\n",
       "  </tbody>\n",
       "</table>\n",
       "</div>"
      ],
      "text/plain": [
       "             id    target\n",
       "0  00034db451c4  0.009954\n",
       "1  0006316b5ca0  0.007508\n",
       "2  0006a953d21b  0.006451\n",
       "3  0008a33d6695  0.054974\n",
       "4  00095b5119fc  0.025438"
      ]
     },
     "execution_count": 17,
     "metadata": {},
     "output_type": "execute_result"
    }
   ],
   "source": [
    "submission.head()"
   ]
  }
 ],
 "metadata": {
  "kernelspec": {
   "display_name": "Python 3",
   "language": "python",
   "name": "python3"
  },
  "language_info": {
   "codemirror_mode": {
    "name": "ipython",
    "version": 3
   },
   "file_extension": ".py",
   "mimetype": "text/x-python",
   "name": "python",
   "nbconvert_exporter": "python",
   "pygments_lexer": "ipython3",
   "version": "3.8.5"
  }
 },
 "nbformat": 4,
 "nbformat_minor": 4
}
